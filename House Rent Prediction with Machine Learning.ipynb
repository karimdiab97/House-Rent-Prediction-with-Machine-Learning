{
 "cells": [
  {
   "cell_type": "markdown",
   "id": "6b1fa6dd",
   "metadata": {},
   "source": [
    "# House Rent Prediction with Machine Learning\n"
   ]
  },
  {
   "cell_type": "markdown",
   "id": "f3e38ff9",
   "metadata": {},
   "source": [
    "The rent of a house depends on a lot of factors. With appropriate data and Machine Learning techniques, many real estate platforms find the housing options according to the customer’s budget. So, if you want to learn how to use Machine Learning to predict the rent of a house, this article is for you. In this article, I will take you through the task of House Rent Prediction with Machine Learning using Python."
   ]
  },
  {
   "cell_type": "markdown",
   "id": "2ee8d993",
   "metadata": {},
   "source": [
    "# House Rent Prediction\n"
   ]
  },
  {
   "cell_type": "markdown",
   "id": "3bbc18df",
   "metadata": {},
   "source": [
    "The rent of a housing property depends on a lot of factors like:\n",
    "\n",
    "number of bedrooms, hall, and kitchen\n",
    "size of the property\n",
    "the floor of the house\n",
    "area type\n",
    "area locality\n",
    "City\n",
    "furnishing status of the house"
   ]
  },
  {
   "cell_type": "markdown",
   "id": "fa3758e0",
   "metadata": {},
   "source": [
    "To build a house rent prediction system, we need data based on the factors affecting the rent of a housing property. I found a dataset from Kaggle which includes all the features we need. You can download the dataset from here.\n",
    "\n"
   ]
  },
  {
   "cell_type": "code",
   "execution_count": null,
   "id": "f51d9e92",
   "metadata": {},
   "outputs": [],
   "source": [
    "import pandas as pd\n",
    "import numpy as np\n",
    "import matplotlib.pyplot as plt\n",
    "import plotly.express as px\n",
    "import plotly.graph_objects as go\n",
    "\n",
    "data = pd.read_csv(\"House_Rent_Dataset.csv\")\n",
    "print(data.head())"
   ]
  },
  {
   "cell_type": "markdown",
   "id": "0a7f1713",
   "metadata": {},
   "source": [
    "Before moving forward, let’s check if the data contains null values or not:\n",
    "\n"
   ]
  },
  {
   "cell_type": "code",
   "execution_count": null,
   "id": "ccae6d9f",
   "metadata": {},
   "outputs": [],
   "source": [
    "print(data.isnull().sum())"
   ]
  },
  {
   "cell_type": "markdown",
   "id": "f150710a",
   "metadata": {},
   "source": [
    "Let’s have a look at the descriptive statistics of the data:\n",
    "\n"
   ]
  },
  {
   "cell_type": "markdown",
   "id": "bf455510",
   "metadata": {},
   "source": [
    "print(data.describe())"
   ]
  },
  {
   "cell_type": "markdown",
   "id": "4ec68610",
   "metadata": {},
   "source": [
    "Now let’s have a look at the mean, median, highest, and lowest rent of the houses:\n",
    "\n"
   ]
  },
  {
   "cell_type": "code",
   "execution_count": null,
   "id": "8363f6ab",
   "metadata": {},
   "outputs": [],
   "source": [
    "print(f\"Mean Rent: {data.Rent.mean()}\")\n",
    "print(f\"Median Rent: {data.Rent.median()}\")\n",
    "print(f\"Highest Rent: {data.Rent.max()}\")\n",
    "print(f\"Lowest Rent: {data.Rent.min()}\")"
   ]
  },
  {
   "cell_type": "markdown",
   "id": "c560fad2",
   "metadata": {},
   "source": [
    "Now let’s have a look at the rent of the houses in different cities according to the number of bedrooms, halls, and kitchens:\n",
    "\n"
   ]
  },
  {
   "cell_type": "code",
   "execution_count": null,
   "id": "a8aa0bda",
   "metadata": {},
   "outputs": [],
   "source": [
    "figure = px.bar(data, x=data[\"City\"], \n",
    "                y = data[\"Rent\"], \n",
    "                color = data[\"BHK\"],\n",
    "            title=\"Rent in Different Cities According to BHK\")\n",
    "figure.show()"
   ]
  },
  {
   "cell_type": "markdown",
   "id": "2f508410",
   "metadata": {},
   "source": [
    "Now let’s have a look at the rent of the houses in different cities according to the area type:\n",
    "\n"
   ]
  },
  {
   "cell_type": "code",
   "execution_count": null,
   "id": "f2ee620c",
   "metadata": {},
   "outputs": [],
   "source": [
    "figure = px.bar(data, x=data[\"City\"], \n",
    "                y = data[\"Rent\"], \n",
    "                color = data[\"Area Type\"],\n",
    "            title=\"Rent in Different Cities According to Area Type\")\n",
    "figure.show()"
   ]
  },
  {
   "cell_type": "markdown",
   "id": "ab6c7a14",
   "metadata": {},
   "source": [
    "Now let’s have a look at the rent of the houses in different cities according to the furnishing status of the house:\n",
    "\n"
   ]
  },
  {
   "cell_type": "code",
   "execution_count": null,
   "id": "fa3d094f",
   "metadata": {},
   "outputs": [],
   "source": [
    "figure = px.bar(data, x=data[\"City\"], \n",
    "                y = data[\"Rent\"], \n",
    "                color = data[\"Furnishing Status\"],\n",
    "            title=\"Rent in Different Cities According to Furnishing Status\")\n",
    "figure.show()"
   ]
  },
  {
   "cell_type": "markdown",
   "id": "141f84b0",
   "metadata": {},
   "source": [
    "Now let’s have a look at the rent of the houses in different cities according to the size of the house:\n",
    "\n"
   ]
  },
  {
   "cell_type": "code",
   "execution_count": null,
   "id": "5af42694",
   "metadata": {},
   "outputs": [],
   "source": [
    "figure = px.bar(data, x=data[\"City\"], \n",
    "                y = data[\"Rent\"], \n",
    "                color = data[\"Size\"],\n",
    "            title=\"Rent in Different Cities According to Size\")\n",
    "figure.show()"
   ]
  },
  {
   "cell_type": "markdown",
   "id": "9b8811bb",
   "metadata": {},
   "source": [
    "Now let’s have a look at the number of houses available for rent in different cities according to the dataset:\n",
    "\n"
   ]
  },
  {
   "cell_type": "code",
   "execution_count": null,
   "id": "6145451b",
   "metadata": {},
   "outputs": [],
   "source": [
    "cities = data[\"City\"].value_counts()\n",
    "label = cities.index\n",
    "counts = cities.values\n",
    "colors = ['gold','lightgreen']\n",
    "\n",
    "fig = go.Figure(data=[go.Pie(labels=label, values=counts, hole=0.5)])\n",
    "fig.update_layout(title_text='Number of Houses Available for Rent')\n",
    "fig.update_traces(hoverinfo='label+percent', textinfo='value', textfont_size=30,\n",
    "                  marker=dict(colors=colors, line=dict(color='black', width=3)))\n",
    "fig.show()"
   ]
  },
  {
   "cell_type": "markdown",
   "id": "3508ccba",
   "metadata": {},
   "source": [
    "Now let’s have a look at the number of houses available for different types of tenants:\n",
    "\n"
   ]
  },
  {
   "cell_type": "code",
   "execution_count": null,
   "id": "e5afa297",
   "metadata": {},
   "outputs": [],
   "source": [
    "# Preference of Tenant\n",
    "tenant = data[\"Tenant Preferred\"].value_counts()\n",
    "label = tenant.index\n",
    "counts = tenant.values\n",
    "colors = ['gold','lightgreen']\n",
    "\n",
    "fig = go.Figure(data=[go.Pie(labels=label, values=counts, hole=0.5)])\n",
    "fig.update_layout(title_text='Preference of Tenant in India')\n",
    "fig.update_traces(hoverinfo='label+percent', textinfo='value', textfont_size=30,\n",
    "                  marker=dict(colors=colors, line=dict(color='black', width=3)))\n",
    "fig.show()"
   ]
  },
  {
   "cell_type": "markdown",
   "id": "12a8a85c",
   "metadata": {},
   "source": [
    "House Rent Prediction Model\n"
   ]
  },
  {
   "cell_type": "markdown",
   "id": "1eb6a06a",
   "metadata": {},
   "source": [
    "Now I will convert all the categorical features into numerical features that we need to train a house rent prediction model:\n",
    "\n"
   ]
  },
  {
   "cell_type": "code",
   "execution_count": null,
   "id": "efad484a",
   "metadata": {},
   "outputs": [],
   "source": [
    "data[\"Area Type\"] = data[\"Area Type\"].map({\"Super Area\": 1, \n",
    "                                           \"Carpet Area\": 2, \n",
    "                                           \"Built Area\": 3})\n",
    "data[\"City\"] = data[\"City\"].map({\"Mumbai\": 4000, \"Chennai\": 6000, \n",
    "                                 \"Bangalore\": 5600, \"Hyderabad\": 5000, \n",
    "                                 \"Delhi\": 1100, \"Kolkata\": 7000})\n",
    "data[\"Furnishing Status\"] = data[\"Furnishing Status\"].map({\"Unfurnished\": 0, \n",
    "                                                           \"Semi-Furnished\": 1, \n",
    "                                                           \"Furnished\": 2})\n",
    "data[\"Tenant Preferred\"] = data[\"Tenant Preferred\"].map({\"Bachelors/Family\": 2, \n",
    "                                                         \"Bachelors\": 1, \n",
    "                                                         \"Family\": 3})\n",
    "print(data.head())"
   ]
  },
  {
   "cell_type": "markdown",
   "id": "8e08cf96",
   "metadata": {},
   "source": [
    "Now I will split the data into training and test sets:\n",
    "\n"
   ]
  },
  {
   "cell_type": "code",
   "execution_count": null,
   "id": "df9e2a5e",
   "metadata": {},
   "outputs": [],
   "source": [
    "#splitting data\n",
    "from sklearn.model_selection import train_test_split\n",
    "x = np.array(data[[\"BHK\", \"Size\", \"Area Type\", \"City\", \n",
    "                   \"Furnishing Status\", \"Tenant Preferred\", \n",
    "                   \"Bathroom\"]])\n",
    "y = np.array(data[[\"Rent\"]])\n",
    "\n",
    "xtrain, xtest, ytrain, ytest = train_test_split(x, y, \n",
    "                                                test_size=0.10, \n",
    "                                                random_state=42)"
   ]
  },
  {
   "cell_type": "markdown",
   "id": "d801c33e",
   "metadata": {},
   "source": [
    "Now let’s train a house rent prediction model using an LSTM neural network model:\n",
    "\n"
   ]
  },
  {
   "cell_type": "code",
   "execution_count": null,
   "id": "b506b6ab",
   "metadata": {},
   "outputs": [],
   "source": [
    "from keras.models import Sequential\n",
    "from keras.layers import Dense, LSTM\n",
    "model = Sequential()\n",
    "model.add(LSTM(128, return_sequences=True, \n",
    "               input_shape= (xtrain.shape[1], 1)))\n",
    "model.add(LSTM(64, return_sequences=False))\n",
    "model.add(Dense(25))\n",
    "model.add(Dense(1))\n",
    "model.summary()"
   ]
  },
  {
   "cell_type": "code",
   "execution_count": null,
   "id": "5b72a8c6",
   "metadata": {},
   "outputs": [],
   "source": [
    "model.compile(optimizer='adam', loss='mean_squared_error')\n",
    "model.fit(xtrain, ytrain, batch_size=1, epochs=21)"
   ]
  },
  {
   "cell_type": "markdown",
   "id": "02bdf25a",
   "metadata": {},
   "source": [
    "Now here’s how to predict the rent of a housing property using the trained model:\n",
    "\n"
   ]
  },
  {
   "cell_type": "code",
   "execution_count": null,
   "id": "cdd19046",
   "metadata": {},
   "outputs": [],
   "source": [
    "print(\"Enter House Details to Predict Rent\")\n",
    "a = int(input(\"Number of BHK: \"))\n",
    "b = int(input(\"Size of the House: \"))\n",
    "c = int(input(\"Area Type (Super Area = 1, Carpet Area = 2, Built Area = 3): \"))\n",
    "d = int(input(\"Pin Code of the City: \"))\n",
    "e = int(input(\"Furnishing Status of the House (Unfurnished = 0, Semi-Furnished = 1, Furnished = 2): \"))\n",
    "f = int(input(\"Tenant Type (Bachelors = 1, Bachelors/Family = 2, Only Family = 3): \"))\n",
    "g = int(input(\"Number of bathrooms: \"))\n",
    "features = np.array([[a, b, c, d, e, f, g]])\n",
    "print(\"Predicted House Price = \", model.predict(features))"
   ]
  },
  {
   "cell_type": "markdown",
   "id": "0f5ec0b6",
   "metadata": {},
   "source": [
    "# Summary"
   ]
  },
  {
   "cell_type": "markdown",
   "id": "2c2aaa59",
   "metadata": {},
   "source": [
    "So this is how to use Machine Learning to predict the rent of a housing property. With appropriate data and Machine Learning techniques, many real estate platforms find the housing options according to the customer’s budget. I hope you liked this article on predicting house rent with Machine Learning using Python. Feel free to ask valuable questions in the comments section below.\n",
    "\n"
   ]
  }
 ],
 "metadata": {
  "kernelspec": {
   "display_name": "Python 3 (ipykernel)",
   "language": "python",
   "name": "python3"
  },
  "language_info": {
   "codemirror_mode": {
    "name": "ipython",
    "version": 3
   },
   "file_extension": ".py",
   "mimetype": "text/x-python",
   "name": "python",
   "nbconvert_exporter": "python",
   "pygments_lexer": "ipython3",
   "version": "3.9.13"
  }
 },
 "nbformat": 4,
 "nbformat_minor": 5
}
